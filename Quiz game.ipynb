{
 "cells": [
  {
   "cell_type": "code",
   "execution_count": 3,
   "metadata": {},
   "outputs": [
    {
     "name": "stdout",
     "output_type": "stream",
     "text": [
      "\"HTML\" stands for Hypertext Markup Language.\n",
      "\n",
      "1-True\n",
      "2-False\n",
      "\n",
      "Wybierz odpowiedź od 1-4: 2\n",
      "\n",
      "Odpowiedź False jest nieprawidłowa. Prawidłowa odpowiedź brzmi: True\n",
      "\n",
      "****************************************************************\n",
      "Ilość twoich zdobych punktów: \n",
      "Prawidłowe odpowiedzi 0\n",
      "Nieprawidłowe odpowiedzi 1\n",
      "\n",
      "****************************************************************\n",
      "\n",
      " Naciśnij Enter albo napisz 'koniec' aby zakończyć grę. koniec\n",
      "\n",
      "Dzięki za grę :)\n"
     ]
    }
   ],
   "source": [
    "adres =\"https://opentdb.com/api.php?amount=1\"\n",
    "import requests\n",
    "import json\n",
    "import pprint\n",
    "import random\n",
    "import html\n",
    "koniecgry = \"\"\n",
    "\n",
    "punkty_zdobyte = 0\n",
    "punkty_stracone = 0\n",
    "while koniecgry != \"koniec\":\n",
    "    r = requests.get(adres)\n",
    "    if(r.status_code != 200):\n",
    "        endGame = input(\"Przepraszam podczas pobierania pytania nastąpił problem. Naciśnij enter aby pobrać pytanie jeszcze raz lub wpisz 'enter' aby zakończyć grę\")\n",
    "    else:\n",
    "        bledna_odp = False\n",
    "        number_odp = 1\n",
    "        data = json.loads(r.text)\n",
    "        pytanie = data['results'][0]['question']\n",
    "        odpowiedzi = data['results'][0]['incorrect_answers']\n",
    "        prawidlowa_odp = data['results'][0]['correct_answer']\n",
    "        odpowiedzi.append(prawidlowa_odp)\n",
    "        random.shuffle(odpowiedzi)\n",
    "        \n",
    "        print(html.unescape(pytanie)+\"\\n\")\n",
    "        \n",
    "        for odp in odpowiedzi:\n",
    "            print(str(number_odp)+ \"-\" + html.unescape(odp))\n",
    "            number_odp += 1\n",
    "            \n",
    "      \n",
    "\n",
    "        while bledna_odp == False:\n",
    "            uzytkownik_odp = input(\"\\nWybierz odpowiedź od 1-4: \")\n",
    "            try:\n",
    "                uzytkownik_odp = int(uzytkownik_odp)\n",
    "                if uzytkownik_odp > len(odpowiedzi) or uzytkownik_odp <= 0:\n",
    "                    print(\"Invalid Answer\")\n",
    "                else:\n",
    "                    bledna_odp = True\n",
    "            except:\n",
    "                print(\"Invalid answer. Use only number\")\n",
    "                \n",
    "        uzytkownik_odp = odpowiedzi[int(uzytkownik_odp)-1]       \n",
    "        if uzytkownik_odp == prawidlowa_odp:\n",
    "            print(\"\\nGratuluje! Odpowiedziałeś poprawnie! Prawidłowa odpowiedź brzmi: \" + html.unescape(prawidlowa_odp))\n",
    "            punkty_zdobyte += 1\n",
    "        else:\n",
    "            print(\"\\nOdpowiedź \" + html.unescape(uzytkownik_odp) + \" jest nieprawidłowa. Prawidłowa odpowiedź brzmi: \" + html.unescape(prawidlowa_odp))\n",
    "            punkty_stracone += 1\n",
    "        \n",
    "        print(\"\\n****************************************************************\")\n",
    "        print(\"Ilość twoich zdobych punktów: \")\n",
    "        print(\"Prawidłowe odpowiedzi \"+ str(punkty_zdobyte))\n",
    "        print(\"Nieprawidłowe odpowiedzi \"+ str(punkty_stracone))\n",
    "        print(\"\\n****************************************************************\")\n",
    "        koniecgry = input(\"\\n Naciśnij Enter albo napisz 'koniec' aby zakończyć grę. \")\n",
    "    \n",
    "print(\"\\nDzięki za grę :)\")"
   ]
  },
  {
   "cell_type": "code",
   "execution_count": null,
   "metadata": {},
   "outputs": [],
   "source": []
  }
 ],
 "metadata": {
  "kernelspec": {
   "display_name": "Python 3",
   "language": "python",
   "name": "python3"
  },
  "language_info": {
   "codemirror_mode": {
    "name": "ipython",
    "version": 3
   },
   "file_extension": ".py",
   "mimetype": "text/x-python",
   "name": "python",
   "nbconvert_exporter": "python",
   "pygments_lexer": "ipython3",
   "version": "3.7.4"
  }
 },
 "nbformat": 4,
 "nbformat_minor": 2
}
